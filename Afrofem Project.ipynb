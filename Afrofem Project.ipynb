{
 "cells": [
  {
   "cell_type": "code",
   "execution_count": 3,
   "id": "1bdb69b1-4536-424c-8d2d-04cf2243b4a9",
   "metadata": {},
   "outputs": [],
   "source": [
    "import pandas as pd\n",
    "import numpy as np\n",
    "import matplotlib.pyplot as plt\n",
    "import re\n",
    "%matplotlib inline"
   ]
  },
  {
   "cell_type": "code",
   "execution_count": 5,
   "id": "e9eac183-e03c-4e4b-8773-263345dd6066",
   "metadata": {},
   "outputs": [],
   "source": [
    "df = pd.read_excel(r'C:\\Users\\Sherry\\Downloads\\flatten_data_table-main\\flatten_data_table-main\\wikipedia_dataset_flat.xlsx')"
   ]
  },
  {
   "cell_type": "code",
   "execution_count": 6,
   "id": "ec198df8-447a-42bb-8d63-95aad5249172",
   "metadata": {},
   "outputs": [
    {
     "name": "stdout",
     "output_type": "stream",
     "text": [
      "   Unnamed: 0       date                                               page  \\\n",
      "0           0 2016-01-01        .xxx_en.wikipedia.org_all-access_all-agents   \n",
      "1           1 2016-01-01        .xxx_en.wikipedia.org_mobile-web_all-agents   \n",
      "2           2 2016-01-01        1._Juli_de.wikipedia.org_desktop_all-agents   \n",
      "3           3 2016-01-01  2014_FIFA_World_Cup_en.wikipedia.org_all-acces...   \n",
      "4           4 2016-01-01  2014_FIFA_World_Cup_en.wikipedia.org_desktop_a...   \n",
      "\n",
      "   visits  \n",
      "0  7089.0  \n",
      "1  6182.0  \n",
      "2    20.0  \n",
      "3  5363.0  \n",
      "4  3186.0  \n"
     ]
    }
   ],
   "source": [
    "print (df.head())"
   ]
  },
  {
   "cell_type": "code",
   "execution_count": 6,
   "id": "f4d65e01",
   "metadata": {},
   "outputs": [
    {
     "data": {
      "text/html": [
       "<div>\n",
       "<style scoped>\n",
       "    .dataframe tbody tr th:only-of-type {\n",
       "        vertical-align: middle;\n",
       "    }\n",
       "\n",
       "    .dataframe tbody tr th {\n",
       "        vertical-align: top;\n",
       "    }\n",
       "\n",
       "    .dataframe thead th {\n",
       "        text-align: right;\n",
       "    }\n",
       "</style>\n",
       "<table border=\"1\" class=\"dataframe\">\n",
       "  <thead>\n",
       "    <tr style=\"text-align: right;\">\n",
       "      <th></th>\n",
       "      <th>Unnamed: 0</th>\n",
       "      <th>date</th>\n",
       "      <th>page</th>\n",
       "      <th>visits</th>\n",
       "    </tr>\n",
       "  </thead>\n",
       "  <tbody>\n",
       "    <tr>\n",
       "      <th>0</th>\n",
       "      <td>False</td>\n",
       "      <td>False</td>\n",
       "      <td>False</td>\n",
       "      <td>False</td>\n",
       "    </tr>\n",
       "    <tr>\n",
       "      <th>1</th>\n",
       "      <td>False</td>\n",
       "      <td>False</td>\n",
       "      <td>False</td>\n",
       "      <td>False</td>\n",
       "    </tr>\n",
       "    <tr>\n",
       "      <th>2</th>\n",
       "      <td>False</td>\n",
       "      <td>False</td>\n",
       "      <td>False</td>\n",
       "      <td>False</td>\n",
       "    </tr>\n",
       "    <tr>\n",
       "      <th>3</th>\n",
       "      <td>False</td>\n",
       "      <td>False</td>\n",
       "      <td>False</td>\n",
       "      <td>False</td>\n",
       "    </tr>\n",
       "    <tr>\n",
       "      <th>4</th>\n",
       "      <td>False</td>\n",
       "      <td>False</td>\n",
       "      <td>False</td>\n",
       "      <td>False</td>\n",
       "    </tr>\n",
       "    <tr>\n",
       "      <th>...</th>\n",
       "      <td>...</td>\n",
       "      <td>...</td>\n",
       "      <td>...</td>\n",
       "      <td>...</td>\n",
       "    </tr>\n",
       "    <tr>\n",
       "      <th>548995</th>\n",
       "      <td>False</td>\n",
       "      <td>False</td>\n",
       "      <td>False</td>\n",
       "      <td>False</td>\n",
       "    </tr>\n",
       "    <tr>\n",
       "      <th>548996</th>\n",
       "      <td>False</td>\n",
       "      <td>False</td>\n",
       "      <td>False</td>\n",
       "      <td>False</td>\n",
       "    </tr>\n",
       "    <tr>\n",
       "      <th>548997</th>\n",
       "      <td>False</td>\n",
       "      <td>False</td>\n",
       "      <td>False</td>\n",
       "      <td>False</td>\n",
       "    </tr>\n",
       "    <tr>\n",
       "      <th>548998</th>\n",
       "      <td>False</td>\n",
       "      <td>False</td>\n",
       "      <td>False</td>\n",
       "      <td>False</td>\n",
       "    </tr>\n",
       "    <tr>\n",
       "      <th>548999</th>\n",
       "      <td>False</td>\n",
       "      <td>False</td>\n",
       "      <td>False</td>\n",
       "      <td>False</td>\n",
       "    </tr>\n",
       "  </tbody>\n",
       "</table>\n",
       "<p>549000 rows × 4 columns</p>\n",
       "</div>"
      ],
      "text/plain": [
       "        Unnamed: 0   date   page  visits\n",
       "0            False  False  False   False\n",
       "1            False  False  False   False\n",
       "2            False  False  False   False\n",
       "3            False  False  False   False\n",
       "4            False  False  False   False\n",
       "...            ...    ...    ...     ...\n",
       "548995       False  False  False   False\n",
       "548996       False  False  False   False\n",
       "548997       False  False  False   False\n",
       "548998       False  False  False   False\n",
       "548999       False  False  False   False\n",
       "\n",
       "[549000 rows x 4 columns]"
      ]
     },
     "execution_count": 6,
     "metadata": {},
     "output_type": "execute_result"
    }
   ],
   "source": [
    "df.isnull()"
   ]
  },
  {
   "cell_type": "code",
   "execution_count": 7,
   "id": "22061517",
   "metadata": {},
   "outputs": [
    {
     "data": {
      "text/plain": [
       "Unnamed: 0     0\n",
       "date           0\n",
       "page           0\n",
       "visits        87\n",
       "dtype: int64"
      ]
     },
     "execution_count": 7,
     "metadata": {},
     "output_type": "execute_result"
    }
   ],
   "source": [
    "df.isnull().sum()"
   ]
  },
  {
   "cell_type": "code",
   "execution_count": 9,
   "id": "4e23b9a9",
   "metadata": {},
   "outputs": [
    {
     "name": "stdout",
     "output_type": "stream",
     "text": [
      "        Unnamed: 0       date  \\\n",
      "0                0 2016-01-01   \n",
      "1                1 2016-01-01   \n",
      "2                2 2016-01-01   \n",
      "3                3 2016-01-01   \n",
      "4                4 2016-01-01   \n",
      "...            ...        ...   \n",
      "548995      548995 2016-12-31   \n",
      "548996      548996 2016-12-31   \n",
      "548997      548997 2016-12-31   \n",
      "548998      548998 2016-12-31   \n",
      "548999      548999 2016-12-31   \n",
      "\n",
      "                                                     page   visits  \n",
      "0             .xxx_en.wikipedia.org_all-access_all-agents   7089.0  \n",
      "1             .xxx_en.wikipedia.org_mobile-web_all-agents   6182.0  \n",
      "2             1._Juli_de.wikipedia.org_desktop_all-agents     20.0  \n",
      "3       2014_FIFA_World_Cup_en.wikipedia.org_all-acces...   5363.0  \n",
      "4       2014_FIFA_World_Cup_en.wikipedia.org_desktop_a...   3186.0  \n",
      "...                                                   ...      ...  \n",
      "548995   Zac_Efron_en.wikipedia.org_all-access_all-agents  13146.0  \n",
      "548996  Zayn_Malik_en.wikipedia.org_all-access_all-agents  12597.0  \n",
      "548997     Zendaya_en.wikipedia.org_all-access_all-agents   6217.0  \n",
      "548998     Zendaya_en.wikipedia.org_mobile-web_all-agents   4650.0  \n",
      "548999  Zodiac_Killer_en.wikipedia.org_all-access_all-...   6659.0  \n",
      "\n",
      "[548913 rows x 4 columns]\n"
     ]
    }
   ],
   "source": [
    "df= df.dropna()\n",
    "print(df)"
   ]
  },
  {
   "cell_type": "code",
   "execution_count": 10,
   "id": "dd326f26-47d6-47e4-887b-f02f7f37e7c1",
   "metadata": {},
   "outputs": [
    {
     "name": "stdout",
     "output_type": "stream",
     "text": [
      "<class 'pandas.core.frame.DataFrame'>\n",
      "Int64Index: 548913 entries, 0 to 548999\n",
      "Data columns (total 4 columns):\n",
      " #   Column      Non-Null Count   Dtype         \n",
      "---  ------      --------------   -----         \n",
      " 0   Unnamed: 0  548913 non-null  int64         \n",
      " 1   date        548913 non-null  datetime64[ns]\n",
      " 2   page        548913 non-null  object        \n",
      " 3   visits      548913 non-null  float64       \n",
      "dtypes: datetime64[ns](1), float64(1), int64(1), object(1)\n",
      "memory usage: 20.9+ MB\n"
     ]
    }
   ],
   "source": [
    "df.info()"
   ]
  },
  {
   "cell_type": "code",
   "execution_count": 11,
   "id": "ced95904-4406-42f8-8cca-60430e17e3c1",
   "metadata": {},
   "outputs": [
    {
     "name": "stdout",
     "output_type": "stream",
     "text": [
      "<class 'pandas.core.frame.DataFrame'>\n",
      "Int64Index: 548913 entries, 0 to 548999\n",
      "Data columns (total 4 columns):\n",
      " #   Column      Non-Null Count   Dtype         \n",
      "---  ------      --------------   -----         \n",
      " 0   Unnamed: 0  548913 non-null  int64         \n",
      " 1   date        548913 non-null  datetime64[ns]\n",
      " 2   page        548913 non-null  object        \n",
      " 3   visits      548913 non-null  float64       \n",
      "dtypes: datetime64[ns](1), float64(1), int64(1), object(1)\n",
      "memory usage: 20.9+ MB\n"
     ]
    }
   ],
   "source": [
    "df.drop_duplicates(inplace=True)\n",
    "df.info()"
   ]
  },
  {
   "cell_type": "code",
   "execution_count": 16,
   "id": "db3fa3e6",
   "metadata": {},
   "outputs": [
    {
     "data": {
      "text/plain": [
       "Index(['Unnamed: 0', 'date', 'page', 'visits'], dtype='object')"
      ]
     },
     "execution_count": 16,
     "metadata": {},
     "output_type": "execute_result"
    }
   ],
   "source": [
    "df.columns"
   ]
  },
  {
   "cell_type": "code",
   "execution_count": 38,
   "id": "a1225675",
   "metadata": {},
   "outputs": [
    {
     "data": {
      "text/html": [
       "<div>\n",
       "<style scoped>\n",
       "    .dataframe tbody tr th:only-of-type {\n",
       "        vertical-align: middle;\n",
       "    }\n",
       "\n",
       "    .dataframe tbody tr th {\n",
       "        vertical-align: top;\n",
       "    }\n",
       "\n",
       "    .dataframe thead th {\n",
       "        text-align: right;\n",
       "    }\n",
       "</style>\n",
       "<table border=\"1\" class=\"dataframe\">\n",
       "  <thead>\n",
       "    <tr style=\"text-align: right;\">\n",
       "      <th></th>\n",
       "      <th>date</th>\n",
       "      <th>page</th>\n",
       "      <th>visits</th>\n",
       "    </tr>\n",
       "  </thead>\n",
       "  <tbody>\n",
       "    <tr>\n",
       "      <th>0</th>\n",
       "      <td>2016-01-01</td>\n",
       "      <td>.xxx_en.wikipedia.org_all-access_all-agents</td>\n",
       "      <td>7089.0</td>\n",
       "    </tr>\n",
       "    <tr>\n",
       "      <th>1</th>\n",
       "      <td>2016-01-01</td>\n",
       "      <td>.xxx_en.wikipedia.org_mobile-web_all-agents</td>\n",
       "      <td>6182.0</td>\n",
       "    </tr>\n",
       "    <tr>\n",
       "      <th>2</th>\n",
       "      <td>2016-01-01</td>\n",
       "      <td>1._Juli_de.wikipedia.org_desktop_all-agents</td>\n",
       "      <td>20.0</td>\n",
       "    </tr>\n",
       "    <tr>\n",
       "      <th>3</th>\n",
       "      <td>2016-01-01</td>\n",
       "      <td>2014_FIFA_World_Cup_en.wikipedia.org_all-acces...</td>\n",
       "      <td>5363.0</td>\n",
       "    </tr>\n",
       "    <tr>\n",
       "      <th>4</th>\n",
       "      <td>2016-01-01</td>\n",
       "      <td>2014_FIFA_World_Cup_en.wikipedia.org_desktop_a...</td>\n",
       "      <td>3186.0</td>\n",
       "    </tr>\n",
       "    <tr>\n",
       "      <th>...</th>\n",
       "      <td>...</td>\n",
       "      <td>...</td>\n",
       "      <td>...</td>\n",
       "    </tr>\n",
       "    <tr>\n",
       "      <th>548995</th>\n",
       "      <td>2016-12-31</td>\n",
       "      <td>Zac_Efron_en.wikipedia.org_all-access_all-agents</td>\n",
       "      <td>13146.0</td>\n",
       "    </tr>\n",
       "    <tr>\n",
       "      <th>548996</th>\n",
       "      <td>2016-12-31</td>\n",
       "      <td>Zayn_Malik_en.wikipedia.org_all-access_all-agents</td>\n",
       "      <td>12597.0</td>\n",
       "    </tr>\n",
       "    <tr>\n",
       "      <th>548997</th>\n",
       "      <td>2016-12-31</td>\n",
       "      <td>Zendaya_en.wikipedia.org_all-access_all-agents</td>\n",
       "      <td>6217.0</td>\n",
       "    </tr>\n",
       "    <tr>\n",
       "      <th>548998</th>\n",
       "      <td>2016-12-31</td>\n",
       "      <td>Zendaya_en.wikipedia.org_mobile-web_all-agents</td>\n",
       "      <td>4650.0</td>\n",
       "    </tr>\n",
       "    <tr>\n",
       "      <th>548999</th>\n",
       "      <td>2016-12-31</td>\n",
       "      <td>Zodiac_Killer_en.wikipedia.org_all-access_all-...</td>\n",
       "      <td>6659.0</td>\n",
       "    </tr>\n",
       "  </tbody>\n",
       "</table>\n",
       "<p>549000 rows × 3 columns</p>\n",
       "</div>"
      ],
      "text/plain": [
       "             date                                               page   visits\n",
       "0      2016-01-01        .xxx_en.wikipedia.org_all-access_all-agents   7089.0\n",
       "1      2016-01-01        .xxx_en.wikipedia.org_mobile-web_all-agents   6182.0\n",
       "2      2016-01-01        1._Juli_de.wikipedia.org_desktop_all-agents     20.0\n",
       "3      2016-01-01  2014_FIFA_World_Cup_en.wikipedia.org_all-acces...   5363.0\n",
       "4      2016-01-01  2014_FIFA_World_Cup_en.wikipedia.org_desktop_a...   3186.0\n",
       "...           ...                                                ...      ...\n",
       "548995 2016-12-31   Zac_Efron_en.wikipedia.org_all-access_all-agents  13146.0\n",
       "548996 2016-12-31  Zayn_Malik_en.wikipedia.org_all-access_all-agents  12597.0\n",
       "548997 2016-12-31     Zendaya_en.wikipedia.org_all-access_all-agents   6217.0\n",
       "548998 2016-12-31     Zendaya_en.wikipedia.org_mobile-web_all-agents   4650.0\n",
       "548999 2016-12-31  Zodiac_Killer_en.wikipedia.org_all-access_all-...   6659.0\n",
       "\n",
       "[549000 rows x 3 columns]"
      ]
     },
     "execution_count": 38,
     "metadata": {},
     "output_type": "execute_result"
    }
   ],
   "source": [
    "#dropping the unnamed column\n",
    "df1 =df.drop(['Unnamed: 0'], axis = 1)\n",
    "df1"
   ]
  },
  {
   "cell_type": "code",
   "execution_count": 31,
   "id": "22d3992e-0be6-4122-a0b9-2d918a180d4b",
   "metadata": {},
   "outputs": [
    {
     "data": {
      "text/plain": [
       "date               datetime64[ns]\n",
       "page                       object\n",
       "visits                    float64\n",
       "day_of_the_week            object\n",
       "dtype: object"
      ]
     },
     "execution_count": 31,
     "metadata": {},
     "output_type": "execute_result"
    }
   ],
   "source": [
    "df1.dtypes"
   ]
  },
  {
   "cell_type": "code",
   "execution_count": 32,
   "id": "1c2c7dcf-a565-48a7-972b-0acef2773cc3",
   "metadata": {},
   "outputs": [
    {
     "data": {
      "text/plain": [
       "(549000, 4)"
      ]
     },
     "execution_count": 32,
     "metadata": {},
     "output_type": "execute_result"
    }
   ],
   "source": [
    "df1.shape"
   ]
  },
  {
   "cell_type": "code",
   "execution_count": 39,
   "id": "df09f8b6",
   "metadata": {},
   "outputs": [
    {
     "data": {
      "text/html": [
       "<div>\n",
       "<style scoped>\n",
       "    .dataframe tbody tr th:only-of-type {\n",
       "        vertical-align: middle;\n",
       "    }\n",
       "\n",
       "    .dataframe tbody tr th {\n",
       "        vertical-align: top;\n",
       "    }\n",
       "\n",
       "    .dataframe thead th {\n",
       "        text-align: right;\n",
       "    }\n",
       "</style>\n",
       "<table border=\"1\" class=\"dataframe\">\n",
       "  <thead>\n",
       "    <tr style=\"text-align: right;\">\n",
       "      <th></th>\n",
       "      <th>date</th>\n",
       "      <th>page</th>\n",
       "      <th>visits</th>\n",
       "    </tr>\n",
       "  </thead>\n",
       "  <tbody>\n",
       "    <tr>\n",
       "      <th>0</th>\n",
       "      <td>2016-01-01</td>\n",
       "      <td>.xxx_en.wikipedia.org_all-access_all-agents</td>\n",
       "      <td>7089.0</td>\n",
       "    </tr>\n",
       "    <tr>\n",
       "      <th>1</th>\n",
       "      <td>2016-01-01</td>\n",
       "      <td>.xxx_en.wikipedia.org_mobile-web_all-agents</td>\n",
       "      <td>6182.0</td>\n",
       "    </tr>\n",
       "    <tr>\n",
       "      <th>2</th>\n",
       "      <td>2016-01-01</td>\n",
       "      <td>1._Juli_de.wikipedia.org_desktop_all-agents</td>\n",
       "      <td>20.0</td>\n",
       "    </tr>\n",
       "    <tr>\n",
       "      <th>3</th>\n",
       "      <td>2016-01-01</td>\n",
       "      <td>2014_FIFA_World_Cup_en.wikipedia.org_all-acces...</td>\n",
       "      <td>5363.0</td>\n",
       "    </tr>\n",
       "    <tr>\n",
       "      <th>4</th>\n",
       "      <td>2016-01-01</td>\n",
       "      <td>2014_FIFA_World_Cup_en.wikipedia.org_desktop_a...</td>\n",
       "      <td>3186.0</td>\n",
       "    </tr>\n",
       "  </tbody>\n",
       "</table>\n",
       "</div>"
      ],
      "text/plain": [
       "        date                                               page  visits\n",
       "0 2016-01-01        .xxx_en.wikipedia.org_all-access_all-agents  7089.0\n",
       "1 2016-01-01        .xxx_en.wikipedia.org_mobile-web_all-agents  6182.0\n",
       "2 2016-01-01        1._Juli_de.wikipedia.org_desktop_all-agents    20.0\n",
       "3 2016-01-01  2014_FIFA_World_Cup_en.wikipedia.org_all-acces...  5363.0\n",
       "4 2016-01-01  2014_FIFA_World_Cup_en.wikipedia.org_desktop_a...  3186.0"
      ]
     },
     "execution_count": 39,
     "metadata": {},
     "output_type": "execute_result"
    }
   ],
   "source": [
    "#converting the date column to dataframe\n",
    "df1['date'] = pd.to_datetime(df1['date'], format = '%Y-%m-%d %H:%M')\n",
    "df1.head()"
   ]
  },
  {
   "cell_type": "code",
   "execution_count": 49,
   "id": "e2069db2",
   "metadata": {},
   "outputs": [],
   "source": [
    "df1['day_of_the_week'] = df1['date'].apply(lambda time : time.dayofweek)"
   ]
  },
  {
   "cell_type": "code",
   "execution_count": 50,
   "id": "f31491d5",
   "metadata": {},
   "outputs": [
    {
     "data": {
      "text/html": [
       "<div>\n",
       "<style scoped>\n",
       "    .dataframe tbody tr th:only-of-type {\n",
       "        vertical-align: middle;\n",
       "    }\n",
       "\n",
       "    .dataframe tbody tr th {\n",
       "        vertical-align: top;\n",
       "    }\n",
       "\n",
       "    .dataframe thead th {\n",
       "        text-align: right;\n",
       "    }\n",
       "</style>\n",
       "<table border=\"1\" class=\"dataframe\">\n",
       "  <thead>\n",
       "    <tr style=\"text-align: right;\">\n",
       "      <th></th>\n",
       "      <th>date</th>\n",
       "      <th>page</th>\n",
       "      <th>visits</th>\n",
       "      <th>day_of_the_week</th>\n",
       "    </tr>\n",
       "  </thead>\n",
       "  <tbody>\n",
       "    <tr>\n",
       "      <th>0</th>\n",
       "      <td>2016-01-01</td>\n",
       "      <td>.xxx_en.wikipedia.org_all-access_all-agents</td>\n",
       "      <td>7089.0</td>\n",
       "      <td>Friday</td>\n",
       "    </tr>\n",
       "    <tr>\n",
       "      <th>1</th>\n",
       "      <td>2016-01-01</td>\n",
       "      <td>.xxx_en.wikipedia.org_mobile-web_all-agents</td>\n",
       "      <td>6182.0</td>\n",
       "      <td>Friday</td>\n",
       "    </tr>\n",
       "    <tr>\n",
       "      <th>2</th>\n",
       "      <td>2016-01-01</td>\n",
       "      <td>1._Juli_de.wikipedia.org_desktop_all-agents</td>\n",
       "      <td>20.0</td>\n",
       "      <td>Friday</td>\n",
       "    </tr>\n",
       "    <tr>\n",
       "      <th>3</th>\n",
       "      <td>2016-01-01</td>\n",
       "      <td>2014_FIFA_World_Cup_en.wikipedia.org_all-acces...</td>\n",
       "      <td>5363.0</td>\n",
       "      <td>Friday</td>\n",
       "    </tr>\n",
       "    <tr>\n",
       "      <th>4</th>\n",
       "      <td>2016-01-01</td>\n",
       "      <td>2014_FIFA_World_Cup_en.wikipedia.org_desktop_a...</td>\n",
       "      <td>3186.0</td>\n",
       "      <td>Friday</td>\n",
       "    </tr>\n",
       "  </tbody>\n",
       "</table>\n",
       "</div>"
      ],
      "text/plain": [
       "        date                                               page  visits  \\\n",
       "0 2016-01-01        .xxx_en.wikipedia.org_all-access_all-agents  7089.0   \n",
       "1 2016-01-01        .xxx_en.wikipedia.org_mobile-web_all-agents  6182.0   \n",
       "2 2016-01-01        1._Juli_de.wikipedia.org_desktop_all-agents    20.0   \n",
       "3 2016-01-01  2014_FIFA_World_Cup_en.wikipedia.org_all-acces...  5363.0   \n",
       "4 2016-01-01  2014_FIFA_World_Cup_en.wikipedia.org_desktop_a...  3186.0   \n",
       "\n",
       "  day_of_the_week  \n",
       "0          Friday  \n",
       "1          Friday  \n",
       "2          Friday  \n",
       "3          Friday  \n",
       "4          Friday  "
      ]
     },
     "execution_count": 50,
     "metadata": {},
     "output_type": "execute_result"
    }
   ],
   "source": [
    "#creating a new column with days\n",
    "df1['day_of_the_week']=pd.DatetimeIndex(df1['date']).day_name()\n",
    "df1.head()"
   ]
  },
  {
   "cell_type": "markdown",
   "id": "ef441891-be56-4ded-9543-8102f30cd8c7",
   "metadata": {
    "tags": []
   },
   "source": [
    "# Which day(s) of the week is /are the most/least popular for visiting wikipedia?"
   ]
  },
  {
   "cell_type": "code",
   "execution_count": 43,
   "id": "25f8b975-87b2-4e49-a284-34300df41c1f",
   "metadata": {},
   "outputs": [
    {
     "data": {
      "text/plain": [
       "Wednesday    78000\n",
       "Tuesday      78000\n",
       "Thursday     78000\n",
       "Sunday       78000\n",
       "Saturday     79500\n",
       "Monday       78000\n",
       "Friday       79500\n",
       "Name: day_of_the_week, dtype: int64"
      ]
     },
     "execution_count": 43,
     "metadata": {},
     "output_type": "execute_result"
    }
   ],
   "source": [
    "#count of days of the week in the dataset\n",
    "df1['day_of_the_week'].value_counts().sort_index(ascending = False)"
   ]
  },
  {
   "cell_type": "code",
   "execution_count": 44,
   "id": "e00bf85b",
   "metadata": {},
   "outputs": [
    {
     "data": {
      "text/html": [
       "<div>\n",
       "<style scoped>\n",
       "    .dataframe tbody tr th:only-of-type {\n",
       "        vertical-align: middle;\n",
       "    }\n",
       "\n",
       "    .dataframe tbody tr th {\n",
       "        vertical-align: top;\n",
       "    }\n",
       "\n",
       "    .dataframe thead th {\n",
       "        text-align: right;\n",
       "    }\n",
       "</style>\n",
       "<table border=\"1\" class=\"dataframe\">\n",
       "  <thead>\n",
       "    <tr style=\"text-align: right;\">\n",
       "      <th></th>\n",
       "      <th>day_of_the_week</th>\n",
       "      <th>visits</th>\n",
       "    </tr>\n",
       "  </thead>\n",
       "  <tbody>\n",
       "    <tr>\n",
       "      <th>0</th>\n",
       "      <td>Monday</td>\n",
       "      <td>4.904875e+09</td>\n",
       "    </tr>\n",
       "    <tr>\n",
       "      <th>1</th>\n",
       "      <td>Tuesday</td>\n",
       "      <td>4.756254e+09</td>\n",
       "    </tr>\n",
       "    <tr>\n",
       "      <th>2</th>\n",
       "      <td>Wednesday</td>\n",
       "      <td>4.676263e+09</td>\n",
       "    </tr>\n",
       "    <tr>\n",
       "      <th>3</th>\n",
       "      <td>Thursday</td>\n",
       "      <td>4.571745e+09</td>\n",
       "    </tr>\n",
       "    <tr>\n",
       "      <th>4</th>\n",
       "      <td>Sunday</td>\n",
       "      <td>4.551448e+09</td>\n",
       "    </tr>\n",
       "    <tr>\n",
       "      <th>5</th>\n",
       "      <td>Saturday</td>\n",
       "      <td>4.470286e+09</td>\n",
       "    </tr>\n",
       "    <tr>\n",
       "      <th>6</th>\n",
       "      <td>Friday</td>\n",
       "      <td>4.409638e+09</td>\n",
       "    </tr>\n",
       "  </tbody>\n",
       "</table>\n",
       "</div>"
      ],
      "text/plain": [
       "  day_of_the_week        visits\n",
       "0          Monday  4.904875e+09\n",
       "1         Tuesday  4.756254e+09\n",
       "2       Wednesday  4.676263e+09\n",
       "3        Thursday  4.571745e+09\n",
       "4          Sunday  4.551448e+09\n",
       "5        Saturday  4.470286e+09\n",
       "6          Friday  4.409638e+09"
      ]
     },
     "execution_count": 44,
     "metadata": {},
     "output_type": "execute_result"
    }
   ],
   "source": [
    "#counting the exact number of visits on different days.\n",
    "day_visits = df1.groupby('day_of_the_week').sum().sort_values('visits', ascending = False)\n",
    "day_visits = day_visits[['visits']]\n",
    "day_visits.reset_index(inplace= True)\n",
    "day_visits"
   ]
  },
  {
   "cell_type": "code",
   "execution_count": 45,
   "id": "12e2d167-84b6-4433-b85e-64bf7d93b2e7",
   "metadata": {},
   "outputs": [
    {
     "data": {
      "text/plain": [
       "Text(0, 0.5, 'Visits')"
      ]
     },
     "execution_count": 45,
     "metadata": {},
     "output_type": "execute_result"
    },
    {
     "data": {
      "image/png": "[encoded data removed]",
      "text/plain": [
       "<Figure size 432x288 with 1 Axes>"
      ]
     },
     "metadata": {
      "needs_background": "light"
     },
     "output_type": "display_data"
    }
   ],
   "source": [
    "#plot of the number of visits per day\n",
    "df1.groupby('day_of_the_week')['visits'].sum().plot(kind='bar', title = 'Visits per Day')\n",
    "plt.xlabel('Days')\n",
    "plt.ylabel('Visits')"
   ]
  },
  {
   "cell_type": "markdown",
   "id": "854a1477-a068-47a5-a0e3-98076519fa61",
   "metadata": {},
   "source": [
    "# The analysis shows that Mondays experience the highest number of visits, while Fridays experience the least number of visits."
   ]
  },
  {
   "cell_type": "markdown",
   "id": "ef7a0a64-933f-46df-a0c6-303e7a850468",
   "metadata": {},
   "source": [
    "# To get the proportion and count of different languages in the dataset;"
   ]
  },
  {
   "cell_type": "code",
   "execution_count": 68,
   "id": "475e08e3-e131-4408-be32-4907c7d24469",
   "metadata": {},
   "outputs": [
    {
     "name": "stdout",
     "output_type": "stream",
     "text": [
      "Counter({'en': 418338, 'ja': 44286, 'es': 28914, 'de': 14274, 'ru': 13176, 'fr': 12444, 'zh': 11346, 'na': 6222})\n"
     ]
    }
   ],
   "source": [
    "#to check the languages used in this dataset,\n",
    "def get_language(page):\n",
    "    res = re.search('[a-z][a-z].wikipedia.org',page)\n",
    "    if res:\n",
    "        return res[0][0:2]\n",
    "    return 'na'\n",
    "\n",
    "df1['lang'] = df1.page.map(get_language)\n",
    "\n",
    "from collections import Counter\n",
    "\n",
    "print(Counter(df1.lang))"
   ]
  },
  {
   "cell_type": "code",
   "execution_count": 71,
   "id": "608b11ea-541e-4b0d-9005-a6ab7f701c0e",
   "metadata": {},
   "outputs": [
    {
     "data": {
      "image/png": "[encoded data removed]",
      "text/plain": [
       "<Figure size 432x288 with 1 Axes>"
      ]
     },
     "metadata": {},
     "output_type": "display_data"
    }
   ],
   "source": [
    "# to get the proportion of languages:\n",
    "data= [418338,44286,28914,14274,13176,12444,11346,6222]\n",
    "labels1 = 'en','ja','es','de','ru','fr','zh','na'\n",
    "plt.pie(data,labels=labels1,autopct='%1.1f%%')\n",
    "plt.title('Percent of Languages')\n",
    "plt.axis('equal')\n",
    "plt.show()"
   ]
  },
  {
   "cell_type": "markdown",
   "id": "3ac31d3f-0d5f-48cd-9147-8a93885db807",
   "metadata": {},
   "source": [
    "# from the above, English is the most common language used for the searches, followed by japanese and Spanish in third place."
   ]
  }
 ],
 "metadata": {
  "kernelspec": {
   "display_name": "Python 3 (ipykernel)",
   "language": "python",
   "name": "python3"
  },
  "language_info": {
   "codemirror_mode": {
    "name": "ipython",
    "version": 3
   },
   "file_extension": ".py",
   "mimetype": "text/x-python",
   "name": "python",
   "nbconvert_exporter": "python",
   "pygments_lexer": "ipython3",
   "version": "3.9.7"
  }
 },
 "nbformat": 4,
 "nbformat_minor": 5
}
